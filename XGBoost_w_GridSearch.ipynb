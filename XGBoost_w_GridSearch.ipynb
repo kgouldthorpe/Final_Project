{
 "cells": [
  {
   "cell_type": "code",
   "execution_count": 1,
   "metadata": {},
   "outputs": [],
   "source": [
    "# Import dependencies\n",
    "%matplotlib inline\n",
    "import matplotlib.pyplot as plt\n",
    "import pandas as pd\n",
    "import seaborn as sn\n",
    "import warnings\n",
    "warnings.simplefilter('ignore')\n",
    "import os\n",
    "import numpy as np"
   ]
  },
  {
   "cell_type": "code",
   "execution_count": 2,
   "metadata": {},
   "outputs": [
    {
     "data": {
      "text/html": [
       "<div>\n",
       "<style scoped>\n",
       "    .dataframe tbody tr th:only-of-type {\n",
       "        vertical-align: middle;\n",
       "    }\n",
       "\n",
       "    .dataframe tbody tr th {\n",
       "        vertical-align: top;\n",
       "    }\n",
       "\n",
       "    .dataframe thead th {\n",
       "        text-align: right;\n",
       "    }\n",
       "</style>\n",
       "<table border=\"1\" class=\"dataframe\">\n",
       "  <thead>\n",
       "    <tr style=\"text-align: right;\">\n",
       "      <th></th>\n",
       "      <th>age</th>\n",
       "      <th>height</th>\n",
       "      <th>weight</th>\n",
       "      <th>ap_hi</th>\n",
       "      <th>ap_lo</th>\n",
       "      <th>cardio</th>\n",
       "      <th>BMI</th>\n",
       "      <th>gender_1</th>\n",
       "      <th>gender_2</th>\n",
       "      <th>cholesterol_1</th>\n",
       "      <th>...</th>\n",
       "      <th>cholesterol_3</th>\n",
       "      <th>gluc_1</th>\n",
       "      <th>gluc_2</th>\n",
       "      <th>gluc_3</th>\n",
       "      <th>smoke_0</th>\n",
       "      <th>smoke_1</th>\n",
       "      <th>alco_0</th>\n",
       "      <th>alco_1</th>\n",
       "      <th>active_0</th>\n",
       "      <th>active_1</th>\n",
       "    </tr>\n",
       "  </thead>\n",
       "  <tbody>\n",
       "    <tr>\n",
       "      <th>0</th>\n",
       "      <td>50.0</td>\n",
       "      <td>66.0</td>\n",
       "      <td>136.0</td>\n",
       "      <td>110</td>\n",
       "      <td>80</td>\n",
       "      <td>0</td>\n",
       "      <td>21.948577</td>\n",
       "      <td>0</td>\n",
       "      <td>1</td>\n",
       "      <td>1</td>\n",
       "      <td>...</td>\n",
       "      <td>0</td>\n",
       "      <td>1</td>\n",
       "      <td>0</td>\n",
       "      <td>0</td>\n",
       "      <td>1</td>\n",
       "      <td>0</td>\n",
       "      <td>1</td>\n",
       "      <td>0</td>\n",
       "      <td>0</td>\n",
       "      <td>1</td>\n",
       "    </tr>\n",
       "    <tr>\n",
       "      <th>1</th>\n",
       "      <td>55.0</td>\n",
       "      <td>61.0</td>\n",
       "      <td>187.0</td>\n",
       "      <td>140</td>\n",
       "      <td>90</td>\n",
       "      <td>1</td>\n",
       "      <td>35.329481</td>\n",
       "      <td>1</td>\n",
       "      <td>0</td>\n",
       "      <td>0</td>\n",
       "      <td>...</td>\n",
       "      <td>1</td>\n",
       "      <td>1</td>\n",
       "      <td>0</td>\n",
       "      <td>0</td>\n",
       "      <td>1</td>\n",
       "      <td>0</td>\n",
       "      <td>1</td>\n",
       "      <td>0</td>\n",
       "      <td>0</td>\n",
       "      <td>1</td>\n",
       "    </tr>\n",
       "    <tr>\n",
       "      <th>2</th>\n",
       "      <td>52.0</td>\n",
       "      <td>65.0</td>\n",
       "      <td>141.0</td>\n",
       "      <td>130</td>\n",
       "      <td>70</td>\n",
       "      <td>1</td>\n",
       "      <td>23.461065</td>\n",
       "      <td>1</td>\n",
       "      <td>0</td>\n",
       "      <td>0</td>\n",
       "      <td>...</td>\n",
       "      <td>1</td>\n",
       "      <td>1</td>\n",
       "      <td>0</td>\n",
       "      <td>0</td>\n",
       "      <td>1</td>\n",
       "      <td>0</td>\n",
       "      <td>1</td>\n",
       "      <td>0</td>\n",
       "      <td>1</td>\n",
       "      <td>0</td>\n",
       "    </tr>\n",
       "    <tr>\n",
       "      <th>3</th>\n",
       "      <td>48.0</td>\n",
       "      <td>67.0</td>\n",
       "      <td>180.0</td>\n",
       "      <td>150</td>\n",
       "      <td>100</td>\n",
       "      <td>1</td>\n",
       "      <td>28.188906</td>\n",
       "      <td>0</td>\n",
       "      <td>1</td>\n",
       "      <td>1</td>\n",
       "      <td>...</td>\n",
       "      <td>0</td>\n",
       "      <td>1</td>\n",
       "      <td>0</td>\n",
       "      <td>0</td>\n",
       "      <td>1</td>\n",
       "      <td>0</td>\n",
       "      <td>1</td>\n",
       "      <td>0</td>\n",
       "      <td>0</td>\n",
       "      <td>1</td>\n",
       "    </tr>\n",
       "    <tr>\n",
       "      <th>4</th>\n",
       "      <td>48.0</td>\n",
       "      <td>61.0</td>\n",
       "      <td>123.0</td>\n",
       "      <td>100</td>\n",
       "      <td>60</td>\n",
       "      <td>0</td>\n",
       "      <td>23.238108</td>\n",
       "      <td>1</td>\n",
       "      <td>0</td>\n",
       "      <td>1</td>\n",
       "      <td>...</td>\n",
       "      <td>0</td>\n",
       "      <td>1</td>\n",
       "      <td>0</td>\n",
       "      <td>0</td>\n",
       "      <td>1</td>\n",
       "      <td>0</td>\n",
       "      <td>1</td>\n",
       "      <td>0</td>\n",
       "      <td>1</td>\n",
       "      <td>0</td>\n",
       "    </tr>\n",
       "  </tbody>\n",
       "</table>\n",
       "<p>5 rows × 21 columns</p>\n",
       "</div>"
      ],
      "text/plain": [
       "    age  height  weight  ap_hi  ap_lo  cardio        BMI  gender_1  gender_2  \\\n",
       "0  50.0    66.0   136.0    110     80       0  21.948577         0         1   \n",
       "1  55.0    61.0   187.0    140     90       1  35.329481         1         0   \n",
       "2  52.0    65.0   141.0    130     70       1  23.461065         1         0   \n",
       "3  48.0    67.0   180.0    150    100       1  28.188906         0         1   \n",
       "4  48.0    61.0   123.0    100     60       0  23.238108         1         0   \n",
       "\n",
       "   cholesterol_1  ...  cholesterol_3  gluc_1  gluc_2  gluc_3  smoke_0  \\\n",
       "0              1  ...              0       1       0       0        1   \n",
       "1              0  ...              1       1       0       0        1   \n",
       "2              0  ...              1       1       0       0        1   \n",
       "3              1  ...              0       1       0       0        1   \n",
       "4              1  ...              0       1       0       0        1   \n",
       "\n",
       "   smoke_1  alco_0  alco_1  active_0  active_1  \n",
       "0        0       1       0         0         1  \n",
       "1        0       1       0         0         1  \n",
       "2        0       1       0         1         0  \n",
       "3        0       1       0         0         1  \n",
       "4        0       1       0         1         0  \n",
       "\n",
       "[5 rows x 21 columns]"
      ]
     },
     "execution_count": 2,
     "metadata": {},
     "output_type": "execute_result"
    }
   ],
   "source": [
    "# Read the CSV\n",
    "heart = pd.read_csv(\"cleaned_cardio.csv\")\n",
    "heart.head()"
   ]
  },
  {
   "cell_type": "code",
   "execution_count": 3,
   "metadata": {},
   "outputs": [
    {
     "data": {
      "text/plain": [
       "array([[ 50.,  66., 136., ...,   0.,   0.,   1.],\n",
       "       [ 55.,  61., 187., ...,   0.,   0.,   1.],\n",
       "       [ 52.,  65., 141., ...,   0.,   1.,   0.],\n",
       "       ...,\n",
       "       [ 52.,  72., 231., ...,   1.,   1.,   0.],\n",
       "       [ 61.,  64., 158., ...,   0.,   1.,   0.],\n",
       "       [ 56.,  67., 158., ...,   0.,   0.,   1.]])"
      ]
     },
     "execution_count": 3,
     "metadata": {},
     "output_type": "execute_result"
    }
   ],
   "source": [
    "# Define variables\n",
    "y = heart[\"cardio\"]\n",
    "target_names = [\"negative\", \"positive\"]\n",
    "X = heart.drop(\"cardio\", axis=1)\n",
    "X2 = X.values\n",
    "X2"
   ]
  },
  {
   "cell_type": "code",
   "execution_count": 4,
   "metadata": {},
   "outputs": [],
   "source": [
    "# Split data to test and train\n",
    "from sklearn.model_selection import train_test_split\n",
    "X_train, X_test, y_train, y_test = train_test_split(X2, y, random_state=42)"
   ]
  },
  {
   "cell_type": "code",
   "execution_count": 5,
   "metadata": {},
   "outputs": [
    {
     "data": {
      "text/plain": [
       "0.7431203358208955"
      ]
     },
     "execution_count": 5,
     "metadata": {},
     "output_type": "execute_result"
    }
   ],
   "source": [
    "# Perform XG Boost\n",
    "import xgboost as xgb\n",
    "from xgboost import XGBClassifier\n",
    "# fit model no training data\n",
    "model = XGBClassifier(probability = True)\n",
    "model.fit(X_train, y_train)\n",
    "model.score(X_test, y_test)"
   ]
  },
  {
   "cell_type": "code",
   "execution_count": 6,
   "metadata": {},
   "outputs": [
    {
     "name": "stdout",
     "output_type": "stream",
     "text": [
      "Best Hyper Parameters:\n",
      " {'colsample_bytree': 1.0, 'gamma': 0.5, 'max_depth': 4, 'min_child_weight': 10, 'subsample': 0.8}\n",
      "Accuracy:  0.7430037313432836\n"
     ]
    }
   ],
   "source": [
    "# GridSearch for XGBoost\n",
    "from sklearn.model_selection import GridSearchCV\n",
    "\n",
    "params_xg = {'min_child_weight': [1, 5, 10],\n",
    "            'gamma': [0.5, 1, 1.5, 2, 5],\n",
    "            'subsample': [0.6, 0.8, 1.0],\n",
    "            'colsample_bytree': [0.6, 0.8, 1.0],\n",
    "            'max_depth': [3, 4, 5]\n",
    "            }\n",
    "\n",
    "grid_xg = GridSearchCV(model, param_grid = params_xg, n_jobs=-1)\n",
    "grid_xg.fit(X_train, y_train)\n",
    "print(\"Best Hyper Parameters:\\n\", grid_xg.best_params_)\n",
    "prediction_xg = grid_xg.predict(X_test)\n",
    "\n",
    "# Print Accuracy\n",
    "from sklearn import metrics\n",
    "\n",
    "accuracy_xg = metrics.accuracy_score(prediction_xg, y_test)\n",
    "print(\"Accuracy: \", accuracy_xg)"
   ]
  },
  {
   "cell_type": "code",
   "execution_count": 7,
   "metadata": {},
   "outputs": [
    {
     "data": {
      "image/png": "[encoded data removed]",
      "text/plain": [
       "<Figure size 576x432 with 2 Axes>"
      ]
     },
     "metadata": {
      "needs_background": "light"
     },
     "output_type": "display_data"
    }
   ],
   "source": [
    "# Perform Confusion Matrix on XG Boost\n",
    "from sklearn.metrics import confusion_matrix\n",
    "\n",
    "cm = confusion_matrix(y_test, prediction_xg)\n",
    "conf_matrix = pd.DataFrame(data = cm, columns = ['Predicted:0','Predicted:1'], index = ['Actual:0','Actual:1'])\n",
    "figure1 = plt.figure(figsize = (8,6))\n",
    "plt.title(\"Confusion Matrix - XG Boost\")\n",
    "sn.heatmap(conf_matrix, annot=True,fmt='d',cmap=\"YlGnBu\")\n",
    "plt.savefig(\"Confusion_Matrix_XGB.png\")"
   ]
  },
  {
   "cell_type": "code",
   "execution_count": 8,
   "metadata": {},
   "outputs": [
    {
     "name": "stdout",
     "output_type": "stream",
     "text": [
      "{'negative': {'precision': 0.7230277185501066, 'recall': 0.7893389199255121, 'f1-score': 0.7547295793456488, 'support': 8592}, 'positive': {'precision': 0.7671127123005661, 'recall': 0.6964953271028037, 'f1-score': 0.7301004163605193, 'support': 8560}, 'accuracy': 0.7430037313432836, 'macro avg': {'precision': 0.7450702154253364, 'recall': 0.7429171235141578, 'f1-score': 0.7424149978530841, 'support': 17152}, 'weighted avg': {'precision': 0.745029091364002, 'recall': 0.7430037313432836, 'f1-score': 0.7424379728185553, 'support': 17152}}\n",
      "<table border=\"1\" class=\"dataframe\">\n",
      "  <thead>\n",
      "    <tr style=\"text-align: right;\">\n",
      "      <th></th>\n",
      "      <th>f1-score</th>\n",
      "      <th>precision</th>\n",
      "      <th>recall</th>\n",
      "      <th>support</th>\n",
      "    </tr>\n",
      "  </thead>\n",
      "  <tbody>\n",
      "    <tr>\n",
      "      <th>negative</th>\n",
      "      <td>0.754730</td>\n",
      "      <td>0.723028</td>\n",
      "      <td>0.789339</td>\n",
      "      <td>8592.000000</td>\n",
      "    </tr>\n",
      "    <tr>\n",
      "      <th>positive</th>\n",
      "      <td>0.730100</td>\n",
      "      <td>0.767113</td>\n",
      "      <td>0.696495</td>\n",
      "      <td>8560.000000</td>\n",
      "    </tr>\n",
      "    <tr>\n",
      "      <th>accuracy</th>\n",
      "      <td>0.743004</td>\n",
      "      <td>0.743004</td>\n",
      "      <td>0.743004</td>\n",
      "      <td>0.743004</td>\n",
      "    </tr>\n",
      "    <tr>\n",
      "      <th>macro avg</th>\n",
      "      <td>0.742415</td>\n",
      "      <td>0.745070</td>\n",
      "      <td>0.742917</td>\n",
      "      <td>17152.000000</td>\n",
      "    </tr>\n",
      "    <tr>\n",
      "      <th>weighted avg</th>\n",
      "      <td>0.742438</td>\n",
      "      <td>0.745029</td>\n",
      "      <td>0.743004</td>\n",
      "      <td>17152.000000</td>\n",
      "    </tr>\n",
      "  </tbody>\n",
      "</table>\n"
     ]
    }
   ],
   "source": [
    "# Calculate Classification report\n",
    "from sklearn.metrics import classification_report\n",
    "\n",
    "class_report = classification_report(y_test, prediction_xg, target_names=target_names, output_dict = True)\n",
    "df = pd.DataFrame(class_report).transpose()\n",
    "df_to_html = df.to_html()\n",
    "print(class_report)\n",
    "print(df_to_html)"
   ]
  },
  {
   "cell_type": "code",
   "execution_count": 9,
   "metadata": {},
   "outputs": [
    {
     "name": "stdout",
     "output_type": "stream",
     "text": [
      "The acuuracy of the model = TP+TN/(TP+TN+FP+FN) =  0.7430037313432836 \n",
      " The Missclassification = 1-Accuracy =  0.25699626865671643 \n",
      " Sensitivity or True Positive Rate = TP/(TP+FN) =  0.6964953271028037 \n",
      " Specificity or True Negative Rate = TN/(TN+FP) =  0.7893389199255121 \n",
      " Positive Predictive value = TP/(TP+FP) =  0.7671127123005661 ‘\n",
      " Negative predictive Value = TN/(TN+FN) =  0.7230277185501066 \n",
      " Positive Likelihood Ratio = Sensitivity/(1-Specificity) =  3.3062363814736404 \n",
      " Negative likelihood Ratio = (1-Sensitivity)/Specificity =  0.3845048878697597\n"
     ]
    }
   ],
   "source": [
    "# Discuss the accuracy and Sensitivity of the file\n",
    "TN=cm[0,0]\n",
    "TP=cm[1,1]\n",
    "FN=cm[1,0]\n",
    "FP=cm[0,1]\n",
    "sensitivity=TP/float(TP+FN)\n",
    "specificity=TN/float(TN+FP)\n",
    "\n",
    "print('The acuuracy of the model = TP+TN/(TP+TN+FP+FN) = ',(TP+TN)/float(TP+TN+FP+FN),'\\n',\n",
    "'The Missclassification = 1-Accuracy = ',1-((TP+TN)/float(TP+TN+FP+FN)),'\\n',\n",
    "'Sensitivity or True Positive Rate = TP/(TP+FN) = ',TP/float(TP+FN),'\\n',\n",
    "'Specificity or True Negative Rate = TN/(TN+FP) = ',TN/float(TN+FP),'\\n',\n",
    "'Positive Predictive value = TP/(TP+FP) = ',TP/float(TP+FP),'‘\\n',\n",
    "'Negative predictive Value = TN/(TN+FN) = ',TN/float(TN+FN),'\\n',\n",
    "'Positive Likelihood Ratio = Sensitivity/(1-Specificity) = ',sensitivity/(1-specificity),'\\n',\n",
    "'Negative likelihood Ratio = (1-Sensitivity)/Specificity = ',(1-sensitivity)/specificity)"
   ]
  },
  {
   "cell_type": "code",
   "execution_count": 10,
   "metadata": {},
   "outputs": [
    {
     "data": {
      "text/plain": [
       "XGBClassifier(base_score=0.5, booster='gbtree', colsample_bylevel=1,\n",
       "              colsample_bynode=1, colsample_bytree=1.0, gamma=0.5,\n",
       "              learning_rate=0.1, max_delta_step=0, max_depth=4,\n",
       "              min_child_weight=10, missing=None, n_estimators=100, n_jobs=1,\n",
       "              nthread=None, objective='binary:logistic', probability=True,\n",
       "              random_state=0, reg_alpha=0, reg_lambda=1, scale_pos_weight=1,\n",
       "              seed=None, silent=None, subsample=0.8, verbosity=1)"
      ]
     },
     "execution_count": 10,
     "metadata": {},
     "output_type": "execute_result"
    }
   ],
   "source": [
    "# Find the best model\n",
    "best_xg = grid_xg.best_estimator_\n",
    "best_xg"
   ]
  },
  {
   "cell_type": "code",
   "execution_count": 14,
   "metadata": {},
   "outputs": [
    {
     "name": "stdout",
     "output_type": "stream",
     "text": [
      "With 0.1 threshold the Confusion Matrix is  \n",
      " [[ 534 8058]\n",
      " [  45 8515]] \n",
      " with 9049 correct predictions and 45 Type II errors( False Negatives) \n",
      "\n",
      " Sensitivity:  0.9947429906542056 Specificity:  0.06215083798882681 \n",
      "\n",
      "\n",
      "\n",
      "With 0.2 threshold the Confusion Matrix is  \n",
      " [[1976 6616]\n",
      " [ 292 8268]] \n",
      " with 10244 correct predictions and 292 Type II errors( False Negatives) \n",
      "\n",
      " Sensitivity:  0.9658878504672898 Specificity:  0.22998137802607077 \n",
      "\n",
      "\n",
      "\n",
      "With 0.3 threshold the Confusion Matrix is  \n",
      " [[4191 4401]\n",
      " [1010 7550]] \n",
      " with 11741 correct predictions and 1010 Type II errors( False Negatives) \n",
      "\n",
      " Sensitivity:  0.8820093457943925 Specificity:  0.48777932960893855 \n",
      "\n",
      "\n",
      "\n",
      "With 0.4 threshold the Confusion Matrix is  \n",
      " [[5840 2752]\n",
      " [1827 6733]] \n",
      " with 12573 correct predictions and 1827 Type II errors( False Negatives) \n",
      "\n",
      " Sensitivity:  0.7865654205607476 Specificity:  0.6797020484171322 \n",
      "\n",
      "\n",
      "\n",
      "80.843%\n"
     ]
    },
    {
     "data": {
      "image/png": "[encoded data removed]",
      "text/plain": [
       "<Figure size 432x288 with 1 Axes>"
      ]
     },
     "metadata": {
      "needs_background": "light"
     },
     "output_type": "display_data"
    }
   ],
   "source": [
    "# ROC Curve\n",
    "from sklearn.preprocessing import binarize\n",
    "\n",
    "for i in range(1,5):\n",
    "   cm2=0\n",
    "   y_pred_prob_yes=best_xg.predict_proba(X_test)\n",
    "   y_pred2=binarize(y_pred_prob_yes,i/10)[:,1]\n",
    "   cm2=confusion_matrix(y_test,y_pred2)\n",
    "   print ('With',i/10,'threshold the Confusion Matrix is ','\\n',cm2,'\\n',\n",
    "           'with',cm2[0,0]+cm2[1,1],'correct predictions and',cm2[1,0],'Type II errors( False Negatives)','\\n\\n',\n",
    "         'Sensitivity: ',cm2[1,1]/(float(cm2[1,1]+cm2[1,0])),'Specificity: ',cm2[0,0]/(float(cm2[0,0]+cm2[0,1])),'\\n\\n\\n')\n",
    "\n",
    "from sklearn.metrics import roc_curve\n",
    "from sklearn.metrics import roc_auc_score\n",
    "fpr, tpr, thresholds = roc_curve(y_test, y_pred_prob_yes[:,1])\n",
    "AUROC_Score_XG = roc_auc_score(y_test,y_pred_prob_yes[:,1])\n",
    "score_xg = \"{0:.3%}\".format(AUROC_Score_XG)\n",
    "print(score_xg)\n",
    "plt.plot(fpr,tpr)\n",
    "plt.xlim([0.0, 1.0])\n",
    "plt.ylim([0.0, 1.0])\n",
    "plt.title('ROC Curve for XG Boost')\n",
    "plt.xlabel('False positive rate (1-Specificity)')\n",
    "plt.ylabel('True positive rate (Sensitivity)')\n",
    "plt.grid(True)\n",
    "plt.savefig(\"ROC_Curve_XGBoost.png\")"
   ]
  },
  {
   "cell_type": "code",
   "execution_count": 12,
   "metadata": {},
   "outputs": [
    {
     "data": {
      "text/plain": [
       "XGBClassifier(base_score=0.5, booster='gbtree', colsample_bylevel=1,\n",
       "              colsample_bynode=1, colsample_bytree=1.0, gamma=0.5,\n",
       "              learning_rate=0.1, max_delta_step=0, max_depth=4,\n",
       "              min_child_weight=10, missing=nan, n_estimators=100, n_jobs=1,\n",
       "              nthread=None, objective='binary:logistic', probability=True,\n",
       "              random_state=0, reg_alpha=0, reg_lambda=1, scale_pos_weight=1,\n",
       "              seed=None, silent=None, subsample=0.8, verbosity=1)"
      ]
     },
     "execution_count": 12,
     "metadata": {},
     "output_type": "execute_result"
    }
   ],
   "source": [
    "# Use pickle to have user inputs\n",
    "import pickle\n",
    "\n",
    "pkl_xg_filename = \"pickle_xg.pkl\"\n",
    "with open(pkl_xg_filename, \"wb\") as file:\n",
    "    pickle.dump(best_xg, file)\n",
    "    \n",
    "with open(pkl_xg_filename, \"rb\") as file:\n",
    "    pickle_model_xg = pickle.load(file)\n",
    "\n",
    "pickle_model_xg"
   ]
  },
  {
   "cell_type": "code",
   "execution_count": 13,
   "metadata": {},
   "outputs": [
    {
     "name": "stdout",
     "output_type": "stream",
     "text": [
      "Test Score: 74.30 %\n"
     ]
    },
    {
     "data": {
      "text/plain": [
       "array([1], dtype=int64)"
      ]
     },
     "execution_count": 13,
     "metadata": {},
     "output_type": "execute_result"
    }
   ],
   "source": [
    "# Test the model\n",
    "import numpy as np\n",
    "\n",
    "new_user_input = np.array([[61,62,205,130,80,37.49,1,0,0,0,1,1,0,0,1,0,1,0,0,1]])\n",
    "\n",
    "best_xg_score = pickle_model_xg.score(X_test, y_test)\n",
    "perc_score_xg = 100*best_xg_score\n",
    "print(\"Test Score: {:.2f} %\".format(perc_score_xg))\n",
    "predict_xg = pickle_model_xg.predict(new_user_input)\n",
    "predict_xg"
   ]
  },
  {
   "cell_type": "code",
   "execution_count": null,
   "metadata": {},
   "outputs": [],
   "source": []
  }
 ],
 "metadata": {
  "kernelspec": {
   "display_name": "Python 3",
   "language": "python",
   "name": "python3"
  },
  "language_info": {
   "codemirror_mode": {
    "name": "ipython",
    "version": 3
   },
   "file_extension": ".py",
   "mimetype": "text/x-python",
   "name": "python",
   "nbconvert_exporter": "python",
   "pygments_lexer": "ipython3",
   "version": "3.7.3"
  }
 },
 "nbformat": 4,
 "nbformat_minor": 4
}
